{
 "cells": [
  {
   "cell_type": "markdown",
   "id": "a2269657-8026-4050-a112-cdaa84ce5d18",
   "metadata": {},
   "source": [
    "# Clase python"
   ]
  },
  {
   "cell_type": "code",
   "execution_count": 2,
   "id": "cc52fcfd-d36d-4172-bfbe-19571bb6da82",
   "metadata": {},
   "outputs": [],
   "source": [
    "from IPython import display as dp"
   ]
  },
  {
   "cell_type": "code",
   "execution_count": null,
   "id": "06b2c6fd-4e70-4000-b4a2-3cb9ad5b03a9",
   "metadata": {},
   "outputs": [],
   "source": [
    "dp.Image(\"\")"
   ]
  }
 ],
 "metadata": {
  "kernelspec": {
   "display_name": "Python 3 (ipykernel)",
   "language": "python",
   "name": "python3"
  },
  "language_info": {
   "codemirror_mode": {
    "name": "ipython",
    "version": 3
   },
   "file_extension": ".py",
   "mimetype": "text/x-python",
   "name": "python",
   "nbconvert_exporter": "python",
   "pygments_lexer": "ipython3",
   "version": "3.9.7"
  }
 },
 "nbformat": 4,
 "nbformat_minor": 5
}
