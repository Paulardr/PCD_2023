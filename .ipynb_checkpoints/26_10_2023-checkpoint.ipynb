{
 "cells": [
  {
   "cell_type": "markdown",
   "id": "d0a71184-9d12-4ecb-a3a4-3b82784d0a71",
   "metadata": {},
   "source": [
    "##  Primera clase PCD"
   ]
  },
  {
   "cell_type": "markdown",
   "id": "fdcbde99-ad18-4f6f-9a13-1e772230f96c",
   "metadata": {},
   "source": [
    "1- Muestre que version de pip tiene"
   ]
  },
  {
   "cell_type": "markdown",
   "id": "6013542f-abe6-41e7-a18c-8cdb463d9243",
   "metadata": {},
   "source": [
    "!pip --version"
   ]
  },
  {
   "cell_type": "markdown",
   "id": "cd7684fb-e3fe-4153-a562-f17222ebcd68",
   "metadata": {},
   "source": [
    "### generar una matriz a que tenga 300*300 que va a tener numeros aleatorios de 0 al numero de expediente"
   ]
  },
  {
   "cell_type": "code",
   "execution_count": 3,
   "id": "cdcdda9a-f4c7-4091-b3d7-a7dee6e7a776",
   "metadata": {},
   "outputs": [],
   "source": [
    "import random as rd"
   ]
  },
  {
   "cell_type": "code",
   "execution_count": 9,
   "id": "14156a88-532c-4cef-9184-731f9b7c34fa",
   "metadata": {},
   "outputs": [],
   "source": [
    "for i in range(300):\n",
    "    for j in range(300):\n",
    "        a = [i,j];"
   ]
  },
  {
   "cell_type": "code",
   "execution_count": 12,
   "id": "86ed4739-d25f-40f5-a5fe-e59b0b49d315",
   "metadata": {},
   "outputs": [],
   "source": [
    "A = [[rd.randint(0,215) for i in range(300)] for j in range(300)]"
   ]
  },
  {
   "cell_type": "code",
   "execution_count": 14,
   "id": "f59cdd7c-199b-42cd-b979-efb5c15e5f0e",
   "metadata": {
    "tags": []
   },
   "outputs": [
    {
     "data": {
      "text/plain": [
       "[[7, 22, 203, 142, 96, 200, 127, 81, 124, 154],\n",
       " [85, 154, 210, 196, 181, 34, 60, 24, 143, 38],\n",
       " [152, 141, 164, 104, 38, 150, 59, 19, 106, 107],\n",
       " [195, 87, 104, 174, 184, 110, 156, 50, 15, 159],\n",
       " [127, 83, 202, 130, 197, 20, 177, 184, 2, 126],\n",
       " [161, 162, 214, 90, 45, 187, 160, 107, 133, 76],\n",
       " [84, 77, 67, 169, 126, 108, 54, 186, 16, 146],\n",
       " [145, 103, 141, 128, 35, 116, 9, 50, 114, 15],\n",
       " [98, 25, 79, 213, 136, 22, 35, 122, 62, 53],\n",
       " [185, 44, 195, 134, 186, 109, 98, 122, 212, 203]]"
      ]
     },
     "execution_count": 14,
     "metadata": {},
     "output_type": "execute_result"
    }
   ],
   "source": [
    "A"
   ]
  },
  {
   "cell_type": "code",
   "execution_count": 15,
   "id": "a6e69dd4-c11c-4d89-8aed-3de109f64ed0",
   "metadata": {},
   "outputs": [],
   "source": [
    "B =  [[rd.randint(0,215) for i in range(200)] for j in range(150)]"
   ]
  },
  {
   "cell_type": "code",
   "execution_count": 22,
   "id": "39cb3271-4667-4466-99fd-705ce17e5e6a",
   "metadata": {},
   "outputs": [
    {
     "data": {
      "text/plain": [
       "<function list.count(value, /)>"
      ]
     },
     "execution_count": 22,
     "metadata": {},
     "output_type": "execute_result"
    }
   ],
   "source": [
    "A.count"
   ]
  },
  {
   "cell_type": "code",
   "execution_count": 29,
   "id": "f78e201f-9ace-4bf5-9b55-65b0d9188445",
   "metadata": {},
   "outputs": [
    {
     "name": "stdin",
     "output_type": "stream",
     "text": [
      "introduce numero de filas de A 2\n"
     ]
    }
   ],
   "source": [
    "filas_A = int(input(\"introduce numero de filas de A\"))"
   ]
  },
  {
   "cell_type": "code",
   "execution_count": 33,
   "id": "05426d37-0b78-4c8f-a629-f7480ce33937",
   "metadata": {},
   "outputs": [
    {
     "name": "stdin",
     "output_type": "stream",
     "text": [
      "introduce numero de columnas de A 3\n"
     ]
    }
   ],
   "source": [
    "columnas_A = int(input(\"introduce numero de columnas de A\"))"
   ]
  },
  {
   "cell_type": "code",
   "execution_count": 36,
   "id": "3f47d62d-b7c4-4411-8a0b-1026d8557a03",
   "metadata": {},
   "outputs": [],
   "source": [
    "def compatible():\n",
    "    if len(A[0]) == len(B):\n",
    "        print(\"la matriz A es compatible con la matriz B\")\n",
    "        return True\n",
    "    else:\n",
    "        print(\"para multiplicar tienen que ser compatibles\")\n",
    "        return False"
   ]
  },
  {
   "cell_type": "code",
   "execution_count": null,
   "id": "f099f5b9-f0ce-4233-b509-16dc9fc38a4a",
   "metadata": {},
   "outputs": [],
   "source": [
    "de multiplicacionMatriz():\n",
    "    filas_A = int(input(\"introduce numero de filas de A\"))\n",
    "    columnas_A = int(input(\"introduce numero de columnas de A\"))\n",
    "    filas_B = int(input(\"introduce numero de filas de B\"))\n",
    "    columnas_B = int(input(\"introduce numero de columnas de B\"))\n",
    "    A =  [[rd.randint(0,215) for i in range(columnas_A)] for j in range(filas_A)]\n",
    "    B =  [[rd.randint(0,215) for i in range(columnas_B)] for j in range(filas_B)]\n",
    "    C = [[0 for i in range(columnas_B)] for j in range(filas_A)]\n",
    "    \n",
    "    def compatible()\n",
    "    if(compatible == True)\n",
    "        for i in range():\n",
    "            for j in range():\n",
    "                for k in range():\n",
    "                    C[i][j] = A[i][k] * B[k][j];\n",
    "        for x in C:\n",
    "            print(x)"
   ]
  },
  {
   "cell_type": "code",
   "execution_count": 23,
   "id": "718febb2-02d7-439e-a9e6-1ea35909480b",
   "metadata": {},
   "outputs": [
    {
     "data": {
      "text/plain": [
       "10"
      ]
     },
     "execution_count": 23,
     "metadata": {},
     "output_type": "execute_result"
    }
   ],
   "source": [
    "len(A)"
   ]
  },
  {
   "cell_type": "code",
   "execution_count": 18,
   "id": "7ae882c1-9b0d-4b33-9cc1-fc75f70e5b73",
   "metadata": {},
   "outputs": [
    {
     "data": {
      "text/plain": [
       "5"
      ]
     },
     "execution_count": 18,
     "metadata": {},
     "output_type": "execute_result"
    }
   ],
   "source": [
    "len(B)"
   ]
  },
  {
   "cell_type": "code",
   "execution_count": null,
   "id": "4a9db89e-06cd-4d80-afc6-7895d0b2e82a",
   "metadata": {},
   "outputs": [],
   "source": [
    "print(las dimensiones introducidas son: A[\"filas_A,\",\"columnas_A,\"])"
   ]
  },
  {
   "cell_type": "code",
   "execution_count": null,
   "id": "8082e5cd-0e23-475e-a43f-9775807e724e",
   "metadata": {},
   "outputs": [],
   "source": []
  },
  {
   "cell_type": "code",
   "execution_count": null,
   "id": "7aa630d5-54dc-464c-824f-bd68473b2bba",
   "metadata": {},
   "outputs": [],
   "source": []
  }
 ],
 "metadata": {
  "kernelspec": {
   "display_name": "Python 3 (ipykernel)",
   "language": "python",
   "name": "python3"
  },
  "language_info": {
   "codemirror_mode": {
    "name": "ipython",
    "version": 3
   },
   "file_extension": ".py",
   "mimetype": "text/x-python",
   "name": "python",
   "nbconvert_exporter": "python",
   "pygments_lexer": "ipython3",
   "version": "3.9.7"
  }
 },
 "nbformat": 4,
 "nbformat_minor": 5
}
