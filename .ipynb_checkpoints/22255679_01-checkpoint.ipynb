{
 "cells": [
  {
   "cell_type": "markdown",
   "id": "3fafad50-0639-429d-b55d-a5968c096d0b",
   "metadata": {},
   "source": [
    "##  Primera clase PCD"
   ]
  },
  {
   "cell_type": "markdown",
   "id": "538fd609-eaf7-483c-9e34-ea2dd4da4c39",
   "metadata": {},
   "source": [
    "1-Muestra que version de pip tiene"
   ]
  },
  {
   "cell_type": "code",
   "execution_count": 1,
   "id": "163d6d9b-a9d2-4804-bb4e-7255085d5a7b",
   "metadata": {},
   "outputs": [
    {
     "name": "stdout",
     "output_type": "stream",
     "text": [
      "pip 21.2.4 from C:\\Users\\rdrpa\\anaconda3\\lib\\site-packages\\pip (python 3.9)\n",
      "\n"
     ]
    }
   ],
   "source": [
    "!pip --version"
   ]
  },
  {
   "cell_type": "code",
   "execution_count": 2,
   "id": "7cdad005-c9d9-4a13-bb7d-61d0d2c922ae",
   "metadata": {},
   "outputs": [],
   "source": [
    "import platform as pt"
   ]
  },
  {
   "cell_type": "markdown",
   "id": "d68928b4-64b1-4850-89ab-1444a3b2987f",
   "metadata": {},
   "source": [
    "### System Specs"
   ]
  },
  {
   "cell_type": "code",
   "execution_count": 6,
   "id": "082e8003-5043-4856-b3e1-9ff7badc0933",
   "metadata": {},
   "outputs": [
    {
     "data": {
      "text/plain": [
       "uname_result(system='Windows', node='LAPTOP-C69HFQSP', release='10', version='10.0.22621', machine='AMD64')"
      ]
     },
     "execution_count": 6,
     "metadata": {},
     "output_type": "execute_result"
    }
   ],
   "source": [
    "pt.uname()"
   ]
  },
  {
   "cell_type": "code",
   "execution_count": 7,
   "id": "3e1c8b55-5126-4fcb-a406-b9f9ecfb6d44",
   "metadata": {},
   "outputs": [
    {
     "data": {
      "text/plain": [
       "'Windows-10-10.0.22621-SP0'"
      ]
     },
     "execution_count": 7,
     "metadata": {},
     "output_type": "execute_result"
    }
   ],
   "source": [
    "pt.platform()"
   ]
  },
  {
   "cell_type": "markdown",
   "id": "b45998d0-fa20-4a83-bb5f-d616e1e93df4",
   "metadata": {},
   "source": [
    "### Cores"
   ]
  },
  {
   "cell_type": "code",
   "execution_count": 8,
   "id": "b08b6edc-8025-4da3-a338-5c70ae53aaf4",
   "metadata": {},
   "outputs": [],
   "source": [
    "import os"
   ]
  },
  {
   "cell_type": "code",
   "execution_count": 9,
   "id": "40f42ab4-e60c-44db-b7f7-c85c4102506b",
   "metadata": {},
   "outputs": [
    {
     "data": {
      "text/plain": [
       "8"
      ]
     },
     "execution_count": 9,
     "metadata": {},
     "output_type": "execute_result"
    }
   ],
   "source": [
    "os.cpu_count()"
   ]
  },
  {
   "cell_type": "code",
   "execution_count": null,
   "id": "703a6d0d-f769-4a91-82ea-b04dd2cdd844",
   "metadata": {},
   "outputs": [],
   "source": []
  }
 ],
 "metadata": {
  "kernelspec": {
   "display_name": "Python 3 (ipykernel)",
   "language": "python",
   "name": "python3"
  },
  "language_info": {
   "codemirror_mode": {
    "name": "ipython",
    "version": 3
   },
   "file_extension": ".py",
   "mimetype": "text/x-python",
   "name": "python",
   "nbconvert_exporter": "python",
   "pygments_lexer": "ipython3",
   "version": "3.9.7"
  }
 },
 "nbformat": 4,
 "nbformat_minor": 5
}
