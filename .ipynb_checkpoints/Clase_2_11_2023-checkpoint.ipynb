{
 "cells": [
  {
   "cell_type": "code",
   "execution_count": 8,
   "id": "e4d1e4f5-d0a8-4be0-bf5f-4e069336457f",
   "metadata": {},
   "outputs": [],
   "source": [
    "import random as rd"
   ]
  },
  {
   "cell_type": "code",
   "execution_count": 15,
   "id": "140da6b1-eb33-49f8-911a-fcc03af2e4e6",
   "metadata": {},
   "outputs": [],
   "source": [
    "A =  [[rd.randint(1,999999999) for i in range(8)] for j in range(16)]\n",
    "B =  [[rd.randint(1,999999999) for i in range(8)] for j in range(8)]"
   ]
  },
  {
   "cell_type": "code",
   "execution_count": 17,
   "id": "04f51b6d-d77e-4f94-862c-39b57d7dce4a",
   "metadata": {},
   "outputs": [],
   "source": [
    "n_fil_A = len(A)"
   ]
  },
  {
   "cell_type": "code",
   "execution_count": 21,
   "id": "92577638-ee47-43cd-8858-7e377196bef3",
   "metadata": {},
   "outputs": [
    {
     "data": {
      "text/plain": [
       "16"
      ]
     },
     "execution_count": 21,
     "metadata": {},
     "output_type": "execute_result"
    }
   ],
   "source": [
    "n_fil_A"
   ]
  },
  {
   "cell_type": "code",
   "execution_count": 18,
   "id": "4a93c8a4-6900-4589-9879-56974428f5a9",
   "metadata": {},
   "outputs": [],
   "source": [
    "n_col_A = len(A[0])"
   ]
  },
  {
   "cell_type": "code",
   "execution_count": 22,
   "id": "4fb5aead-5bec-41bf-bb68-a64ca52f1d07",
   "metadata": {},
   "outputs": [
    {
     "data": {
      "text/plain": [
       "8"
      ]
     },
     "execution_count": 22,
     "metadata": {},
     "output_type": "execute_result"
    }
   ],
   "source": [
    "n_col_A"
   ]
  },
  {
   "cell_type": "code",
   "execution_count": 19,
   "id": "9e38e7e9-02b2-4e69-8641-50ca1c2eba7f",
   "metadata": {},
   "outputs": [],
   "source": [
    "n_fil_B = len(B)"
   ]
  },
  {
   "cell_type": "code",
   "execution_count": 23,
   "id": "0f263bdb-bc99-43e5-8591-d9632c7ddf78",
   "metadata": {},
   "outputs": [
    {
     "data": {
      "text/plain": [
       "8"
      ]
     },
     "execution_count": 23,
     "metadata": {},
     "output_type": "execute_result"
    }
   ],
   "source": [
    "n_fil_B"
   ]
  },
  {
   "cell_type": "code",
   "execution_count": 20,
   "id": "99c5bbf2-c2fb-4690-a596-92ed9d007cc6",
   "metadata": {},
   "outputs": [],
   "source": [
    "n_col_B = len(B[0])"
   ]
  },
  {
   "cell_type": "code",
   "execution_count": 24,
   "id": "112462cc-22b8-46cf-985f-ad9206e75341",
   "metadata": {},
   "outputs": [
    {
     "data": {
      "text/plain": [
       "8"
      ]
     },
     "execution_count": 24,
     "metadata": {},
     "output_type": "execute_result"
    }
   ],
   "source": [
    "n_col_B"
   ]
  },
  {
   "cell_type": "code",
   "execution_count": 30,
   "id": "fa4f2579-b6a8-498e-93dd-926c5dc12cc9",
   "metadata": {},
   "outputs": [],
   "source": [
    "def seq_mult(A,B):\n",
    "    C =  [[0 for i in range(n_col_B)] for j in range(n_fil_A)]\n",
    "    for i in range(n_fil_A):\n",
    "        for j in range(n_col_B):\n",
    "            for k in range(n_col_A):\n",
    "                C[i][j] = A[i][k] * B[k][j];\n",
    "    return C"
   ]
  },
  {
   "cell_type": "code",
   "execution_count": 29,
   "id": "254bd966-62dd-4494-b601-4d7a6c8821b7",
   "metadata": {},
   "outputs": [
    {
     "data": {
      "text/plain": [
       "[[112856823665866576,\n",
       "  30225776321993587,\n",
       "  58453153805486527,\n",
       "  166163707389974848,\n",
       "  88845781667392770,\n",
       "  30753576321987719,\n",
       "  22262824019810663,\n",
       "  30792943059950132],\n",
       " [60219739719679472,\n",
       "  16128297109660889,\n",
       "  31190260310555069,\n",
       "  88663980474117056,\n",
       "  47407588424093190,\n",
       "  16409928096527893,\n",
       "  11879312427463861,\n",
       "  16430933957199004],\n",
       " [459600111747821152,\n",
       "  123091982602505674,\n",
       "  238045650660461554,\n",
       "  676688001701773696,\n",
       "  361817122405920540,\n",
       "  125241404596659938,\n",
       "  90663515726977826,\n",
       "  125401722392066264],\n",
       " [199424749215059984,\n",
       "  53410752376749383,\n",
       "  103290214626287843,\n",
       "  293621197181652032,\n",
       "  156995803641375930,\n",
       "  54343406506252171,\n",
       "  39339739971013867,\n",
       "  54412969883906788],\n",
       " [166606147390866848,\n",
       "  44621140143150326,\n",
       "  86292121663914446,\n",
       "  245301030324850304,\n",
       "  131159578257839460,\n",
       "  45400310792612062,\n",
       "  32865742801366174,\n",
       "  45458426379549736],\n",
       " [227097578012615056,\n",
       "  60822202621956847,\n",
       "  117623101778290987,\n",
       "  334365032402317888,\n",
       "  178781053532387370,\n",
       "  61884274881128339,\n",
       "  44798650630012403,\n",
       "  61963491100007492],\n",
       " [365725950711084720,\n",
       "  97950220662510765,\n",
       "  189424392368740065,\n",
       "  538473243220090560,\n",
       "  287915315277513150,\n",
       "  99660619294273305,\n",
       "  72145327288892985,\n",
       "  99788191887582540],\n",
       " [351350305204103248,\n",
       "  94100076457985251,\n",
       "  181978658999877871,\n",
       "  517307393642077504,\n",
       "  276598184238786210,\n",
       "  95743244190879287,\n",
       "  69309499948574999,\n",
       "  95865802268882036],\n",
       " [340599070348458400,\n",
       "  91220636745114550,\n",
       "  176410155791985550,\n",
       "  501477911785283200,\n",
       "  268134346310230500,\n",
       "  92813523940488350,\n",
       "  67188645915897950,\n",
       "  92932331770773800],\n",
       " [187529077083418704,\n",
       "  50224804789607523,\n",
       "  97128960657372783,\n",
       "  276106713616694592,\n",
       "  147631015100775330,\n",
       "  51101826166503351,\n",
       "  36993127274840727,\n",
       "  51167240093619828],\n",
       " [467434275908957728,\n",
       "  125190160505379886,\n",
       "  242103283932191206,\n",
       "  688222561323708544,\n",
       "  367984515887307060,\n",
       "  127376220708105782,\n",
       "  92208930637626614,\n",
       "  127539271218093896],\n",
       " [115502182349582064,\n",
       "  30934267109419593,\n",
       "  59823293004758253,\n",
       "  170058576942247872,\n",
       "  90928322646405030,\n",
       "  31474438716799941,\n",
       "  22784663576621157,\n",
       "  31514728209264348],\n",
       " [81140372680085520,\n",
       "  21731346635916615,\n",
       "  42025909732722915,\n",
       "  119466282193488960,\n",
       "  63877217179966650,\n",
       "  22110817609039755,\n",
       "  16006243833574635,\n",
       "  22139121008743140],\n",
       " [69247374148541344,\n",
       "  18546115103293078,\n",
       "  35866040530387438,\n",
       "  101955735079069312,\n",
       "  54514533413209380,\n",
       "  18869965827493886,\n",
       "  13660158548031422,\n",
       "  18894120709264808],\n",
       " [2499191066621648,\n",
       "  669343578101051,\n",
       "  1294433026389671,\n",
       "  3679661004240704,\n",
       "  1967471497404210,\n",
       "  681031600163887,\n",
       "  493005642909199,\n",
       "  681903368450836],\n",
       " [373926756933833360,\n",
       "  100146594142617695,\n",
       "  193671924524053595,\n",
       "  550547624912713280,\n",
       "  294371345276373450,\n",
       "  101895345665979715,\n",
       "  73763068244443555,\n",
       "  102025778866022020]]"
      ]
     },
     "execution_count": 29,
     "metadata": {},
     "output_type": "execute_result"
    }
   ],
   "source": [
    "seq_mult(A,B)"
   ]
  },
  {
   "cell_type": "code",
   "execution_count": 6,
   "id": "cbf5e6d8-883d-4aae-acaf-be91dc0648b9",
   "metadata": {},
   "outputs": [
    {
     "data": {
      "text/plain": [
       "[[1, 1, 1, 1, 1],\n",
       " [1, 1, 1, 1, 1],\n",
       " [1, 1, 1, 1, 1],\n",
       " [1, 1, 1, 1, 1],\n",
       " [1, 1, 1, 1, 1],\n",
       " [1, 1, 1, 1, 1],\n",
       " [1, 1, 1, 1, 1],\n",
       " [1, 1, 1, 1, 1],\n",
       " [1, 1, 1, 1, 1],\n",
       " [1, 1, 1, 1, 1]]"
      ]
     },
     "execution_count": 6,
     "metadata": {},
     "output_type": "execute_result"
    }
   ],
   "source": [
    "[[1]*5 for i in range(10)]"
   ]
  },
  {
   "cell_type": "markdown",
   "id": "12afdfeb-e434-4d7b-a348-f8911e372236",
   "metadata": {},
   "source": []
  },
  {
   "cell_type": "code",
   "execution_count": 32,
   "id": "bff713b4-0106-433d-8711-749b075e7adc",
   "metadata": {},
   "outputs": [],
   "source": [
    "#multiplicacion paralela"
   ]
  },
  {
   "cell_type": "code",
   "execution_count": 41,
   "id": "aede845b-3299-447d-86f8-3a3f23361083",
   "metadata": {},
   "outputs": [
    {
     "data": {
      "text/plain": [
       "2.0"
      ]
     },
     "execution_count": 41,
     "metadata": {},
     "output_type": "execute_result"
    }
   ],
   "source": [
    "n_fil_A/cores"
   ]
  },
  {
   "cell_type": "code",
   "execution_count": 34,
   "id": "111d123a-e794-449b-98f1-3c2f009cb1bc",
   "metadata": {},
   "outputs": [],
   "source": [
    "import multiprocessing as mp"
   ]
  },
  {
   "cell_type": "code",
   "execution_count": 35,
   "id": "a972b835-792e-4613-8c0c-b1686882c9d5",
   "metadata": {},
   "outputs": [],
   "source": [
    "def par_mult():\n",
    "    cores = mp.cpu_count()\n",
    "    n_fil_A\n",
    "    n_col_B\n",
    "    n_fil_B\n",
    "    n_col_A\n",
    "    n_fil_A/cores"
   ]
  },
  {
   "cell_type": "code",
   "execution_count": 39,
   "id": "6303dc90-51a0-467b-9584-e1adb5e5c2bf",
   "metadata": {},
   "outputs": [],
   "source": [
    "cores = mp.cpu_count()"
   ]
  },
  {
   "cell_type": "code",
   "execution_count": 40,
   "id": "5b475258-ee7a-49fa-b3d6-3e00c124f1bd",
   "metadata": {},
   "outputs": [
    {
     "data": {
      "text/plain": [
       "8"
      ]
     },
     "execution_count": 40,
     "metadata": {},
     "output_type": "execute_result"
    }
   ],
   "source": [
    "cores"
   ]
  },
  {
   "cell_type": "code",
   "execution_count": null,
   "id": "0b7b773f-c3f7-4b9a-99ea-418ed2f1fd3d",
   "metadata": {},
   "outputs": [],
   "source": []
  },
  {
   "cell_type": "code",
   "execution_count": null,
   "id": "6447091e-b99a-4310-ba14-4e98a49be7ae",
   "metadata": {},
   "outputs": [],
   "source": []
  }
 ],
 "metadata": {
  "kernelspec": {
   "display_name": "Python 3 (ipykernel)",
   "language": "python",
   "name": "python3"
  },
  "language_info": {
   "codemirror_mode": {
    "name": "ipython",
    "version": 3
   },
   "file_extension": ".py",
   "mimetype": "text/x-python",
   "name": "python",
   "nbconvert_exporter": "python",
   "pygments_lexer": "ipython3",
   "version": "3.9.7"
  }
 },
 "nbformat": 4,
 "nbformat_minor": 5
}
