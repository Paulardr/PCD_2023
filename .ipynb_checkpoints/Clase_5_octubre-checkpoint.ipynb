{
 "cells": [
  {
   "cell_type": "markdown",
   "id": "7c4f8034-9aa2-4a5b-99f9-3923189bc1e5",
   "metadata": {},
   "source": [
    "## 3/oct/2023\n",
    "# Threads.\n"
   ]
  },
  {
   "cell_type": "markdown",
   "id": "84ac4123-4fa0-4a1e-81c4-de106aa8db04",
   "metadata": {},
   "source": [
    "### Import libs, manage threads"
   ]
  },
  {
   "cell_type": "code",
   "execution_count": 2,
   "id": "0ad15a11-71ac-4d8f-9d94-f291ce7a8253",
   "metadata": {},
   "outputs": [],
   "source": [
    "import threading as th"
   ]
  },
  {
   "cell_type": "code",
   "execution_count": 4,
   "id": "6d1d96de-7c6d-479d-8cac-a8435f1ddb71",
   "metadata": {},
   "outputs": [
    {
     "data": {
      "text/plain": [
       "6"
      ]
     },
     "execution_count": 4,
     "metadata": {},
     "output_type": "execute_result"
    }
   ],
   "source": [
    "th.active_count()"
   ]
  },
  {
   "cell_type": "code",
   "execution_count": 5,
   "id": "64f15849-d475-4e8f-a2f3-2f1b6ea8a584",
   "metadata": {},
   "outputs": [
    {
     "data": {
      "text/plain": [
       "[<_MainThread(MainThread, started 17336)>,\n",
       " <Thread(Thread-6, started daemon 16568)>,\n",
       " <Heartbeat(Thread-7, started daemon 10964)>,\n",
       " <ControlThread(Thread-5, started daemon 26600)>,\n",
       " <HistorySavingThread(IPythonHistorySavingThread, started 15228)>,\n",
       " <ParentPollerWindows(Thread-4, started daemon 18568)>]"
      ]
     },
     "execution_count": 5,
     "metadata": {},
     "output_type": "execute_result"
    }
   ],
   "source": [
    "th.enumerate()"
   ]
  },
  {
   "cell_type": "markdown",
   "id": "c9659990-f5fd-4fe9-abea-ff20e3d20cbf",
   "metadata": {
    "tags": []
   },
   "source": [
    "# who is the parent?"
   ]
  },
  {
   "cell_type": "markdown",
   "id": "aca0a45f-78a0-40c7-897a-b0421fbff00f",
   "metadata": {
    "tags": []
   },
   "source": []
  },
  {
   "cell_type": "code",
   "execution_count": 24,
   "id": "1061033e-7cf2-45f1-a64f-21aaad9d02fa",
   "metadata": {},
   "outputs": [],
   "source": [
    "import os"
   ]
  },
  {
   "cell_type": "code",
   "execution_count": 22,
   "id": "5e13702c-f81e-41a1-8dd8-b93a9b0a420c",
   "metadata": {},
   "outputs": [
    {
     "data": {
      "text/plain": [
       "39040"
      ]
     },
     "execution_count": 22,
     "metadata": {},
     "output_type": "execute_result"
    }
   ],
   "source": [
    "os.getpid()"
   ]
  },
  {
   "cell_type": "code",
   "execution_count": 25,
   "id": "e1cec7d8-3b58-47fd-93b5-1c17f8125410",
   "metadata": {},
   "outputs": [],
   "source": [
    "from IPython import display as dp"
   ]
  },
  {
   "cell_type": "code",
   "execution_count": 26,
   "id": "afcbbec6-9d96-4c98-9a1d-86acd82f3155",
   "metadata": {},
   "outputs": [
    {
     "data": {
      "image/png": "[encoded data removed]",
      "text/plain": [
       "<IPython.core.display.Image object>"
      ]
     },
     "execution_count": 26,
     "metadata": {},
     "output_type": "execute_result"
    }
   ],
   "source": [
    "dp.Image(\"Captura de pantalla 2023-10-05 155708.png\")"
   ]
  },
  {
   "cell_type": "markdown",
   "id": "cc3650ac-0c21-4998-99f5-32fca34541a7",
   "metadata": {
    "tags": []
   },
   "source": [
    "# threads VS process"
   ]
  },
  {
   "cell_type": "markdown",
   "id": "02358815-1485-4afa-a206-79901d289500",
   "metadata": {},
   "source": [
    "### Threads ex"
   ]
  },
  {
   "cell_type": "code",
   "execution_count": 27,
   "id": "bc8db12c-ddbd-4a6f-b0ca-9148c458d594",
   "metadata": {},
   "outputs": [],
   "source": [
    "def do_nothing():\n",
    "    while True:\n",
    "        pass"
   ]
  },
  {
   "cell_type": "code",
   "execution_count": null,
   "id": "8b5960b2-fec1-4625-8e06-633c62d3ef7e",
   "metadata": {},
   "outputs": [],
   "source": []
  },
  {
   "cell_type": "code",
   "execution_count": 29,
   "id": "da11e84c-2c4d-4dae-b078-c27f1723c620",
   "metadata": {},
   "outputs": [
    {
     "data": {
      "text/plain": [
       "[<_MainThread(MainThread, started 17336)>,\n",
       " <Thread(Thread-6, started daemon 16568)>,\n",
       " <Heartbeat(Thread-7, started daemon 10964)>,\n",
       " <ControlThread(Thread-5, started daemon 26600)>,\n",
       " <HistorySavingThread(IPythonHistorySavingThread, started 15228)>,\n",
       " <ParentPollerWindows(Thread-4, started daemon 18568)>,\n",
       " <Thread(Thread-10, started 5804)>,\n",
       " <Thread(Thread-11, started 32448)>,\n",
       " <Thread(Thread-12, started 22956)>,\n",
       " <Thread(Thread-13, started 36940)>,\n",
       " <Thread(Thread-14, started 42688)>,\n",
       " <Thread(Thread-15, started 41620)>,\n",
       " <Thread(Thread-16, started 23260)>,\n",
       " <Thread(Thread-17, started 32832)>,\n",
       " <Thread(Thread-18, started 28240)>,\n",
       " <Thread(Thread-19, started 30828)>,\n",
       " <Thread(Thread-20, started 38280)>,\n",
       " <Thread(Thread-21, started 2144)>,\n",
       " <Thread(Thread-22, started 42312)>,\n",
       " <Thread(Thread-23, started 36672)>,\n",
       " <Thread(Thread-24, started 24440)>,\n",
       " <Thread(Thread-25, started 2948)>,\n",
       " <Thread(Thread-26, started 26880)>,\n",
       " <Thread(Thread-27, started 37556)>,\n",
       " <Thread(Thread-28, started 32776)>,\n",
       " <Thread(Thread-29, started 38564)>,\n",
       " <Thread(Thread-30, started 42908)>,\n",
       " <Thread(Thread-31, started 28400)>,\n",
       " <Thread(Thread-32, started 31284)>,\n",
       " <Thread(Thread-33, started 20976)>,\n",
       " <Thread(Thread-34, started 33780)>,\n",
       " <Thread(Thread-35, started 40656)>,\n",
       " <Thread(Thread-36, started 35672)>,\n",
       " <Thread(Thread-37, started 35760)>,\n",
       " <Thread(Thread-38, started 24212)>,\n",
       " <Thread(Thread-39, started 9800)>,\n",
       " <Thread(Thread-40, started 42800)>,\n",
       " <Thread(Thread-41, started 31720)>,\n",
       " <Thread(Thread-42, started 37860)>,\n",
       " <Thread(Thread-43, started 34852)>,\n",
       " <Thread(Thread-44, started 17152)>,\n",
       " <Thread(Thread-45, started 29052)>,\n",
       " <Thread(Thread-46, started 39260)>,\n",
       " <Thread(Thread-47, started 17480)>,\n",
       " <Thread(Thread-48, started 14352)>,\n",
       " <Thread(Thread-49, started 40612)>]"
      ]
     },
     "execution_count": 29,
     "metadata": {},
     "output_type": "execute_result"
    }
   ],
   "source": [
    "for i in range (20):\n",
    "    th.Thread(target=do_nothing).start()\n",
    "    \n",
    "th.enumerate()"
   ]
  },
  {
   "cell_type": "markdown",
   "id": "abde8942-77e2-4921-b571-b87b6ff351c7",
   "metadata": {},
   "source": [
    "### Process Ex"
   ]
  },
  {
   "cell_type": "code",
   "execution_count": null,
   "id": "252fa586-6113-476e-aa45-ccd266ef7861",
   "metadata": {},
   "outputs": [],
   "source": [
    "for i in range(20):\n",
    "    mp.Process(target = do_nothing()).start()"
   ]
  },
  {
   "cell_type": "code",
   "execution_count": null,
   "id": "4a68050f-77b2-4a6d-979a-3ba579c2cb4f",
   "metadata": {},
   "outputs": [],
   "source": [
    "mp.enumerate()"
   ]
  },
  {
   "cell_type": "markdown",
   "id": "8e20ef3d-b644-4053-8061-6f4d056a7748",
   "metadata": {},
   "source": [
    "### cuantos hilos puedo instanciar?"
   ]
  },
  {
   "cell_type": "code",
   "execution_count": null,
   "id": "f2669266-cf72-4918-b10c-58211f14e0a6",
   "metadata": {},
   "outputs": [],
   "source": [
    "tengo que saber mi interprete de python para saber cuantos hilos puedo instanciar."
   ]
  },
  {
   "cell_type": "markdown",
   "id": "bc23604c-c839-4a65-82fb-672fb020b95d",
   "metadata": {},
   "source": [
    "### Import libs, manage process (cores)"
   ]
  },
  {
   "cell_type": "code",
   "execution_count": 30,
   "id": "430b7429-fc3d-4cfc-8820-e9f25c044d97",
   "metadata": {},
   "outputs": [],
   "source": [
    "import multiprocessing as mp # manages cores"
   ]
  },
  {
   "cell_type": "code",
   "execution_count": 11,
   "id": "2e6130ff-f980-4dca-8350-1b254fe35dbe",
   "metadata": {},
   "outputs": [
    {
     "data": {
      "text/plain": [
       "8"
      ]
     },
     "execution_count": 11,
     "metadata": {},
     "output_type": "execute_result"
    }
   ],
   "source": [
    "mp.cpu_count()"
   ]
  },
  {
   "cell_type": "code",
   "execution_count": 12,
   "id": "6afd091e-a82b-4e17-94e8-070748ecffce",
   "metadata": {},
   "outputs": [
    {
     "data": {
      "text/plain": [
       "<_MainProcess name='MainProcess' parent=None started>"
      ]
     },
     "execution_count": 12,
     "metadata": {},
     "output_type": "execute_result"
    }
   ],
   "source": [
    "mp.current_process()"
   ]
  },
  {
   "cell_type": "markdown",
   "id": "e1b08b98-efab-410c-bcca-e5802ab0e641",
   "metadata": {},
   "source": [
    "### cual es mi interprete de python?"
   ]
  },
  {
   "cell_type": "code",
   "execution_count": 14,
   "id": "d64e7163-2f33-40de-ac10-332737711fe6",
   "metadata": {},
   "outputs": [
    {
     "name": "stdout",
     "output_type": "stream",
     "text": [
      "Python 3.11.5\n"
     ]
    }
   ],
   "source": [
    "! python3 --version"
   ]
  },
  {
   "cell_type": "code",
   "execution_count": 15,
   "id": "de8d1280-b875-479c-b4d4-87bf8f1dcb0e",
   "metadata": {},
   "outputs": [],
   "source": [
    "import platform as pt"
   ]
  },
  {
   "cell_type": "code",
   "execution_count": 16,
   "id": "557832df-2924-44bf-8d37-5f678b77d9a7",
   "metadata": {},
   "outputs": [
    {
     "data": {
      "text/plain": [
       "'CPython'"
      ]
     },
     "execution_count": 16,
     "metadata": {},
     "output_type": "execute_result"
    }
   ],
   "source": [
    "pt.python_implementation()"
   ]
  },
  {
   "cell_type": "code",
   "execution_count": 17,
   "id": "080366ca-076e-4d5e-81da-8de86893a6b5",
   "metadata": {},
   "outputs": [
    {
     "data": {
      "text/plain": [
       "'MSC v.1916 64 bit (AMD64)'"
      ]
     },
     "execution_count": 17,
     "metadata": {},
     "output_type": "execute_result"
    }
   ],
   "source": [
    "pt.python_compiler()"
   ]
  },
  {
   "cell_type": "code",
   "execution_count": 19,
   "id": "eb8e6e30-ca2f-4277-9c01-bb6dc0e0546f",
   "metadata": {},
   "outputs": [
    {
     "data": {
      "text/plain": [
       "[[1, 2, 3, 4], [4, 6, 7]]"
      ]
     },
     "execution_count": 19,
     "metadata": {},
     "output_type": "execute_result"
    }
   ],
   "source": [
    "[[1,2,3,4],[4,6,7]] "
   ]
  },
  {
   "cell_type": "code",
   "execution_count": null,
   "id": "3159453c-5fb5-4405-9f10-658525141a68",
   "metadata": {},
   "outputs": [],
   "source": []
  }
 ],
 "metadata": {
  "kernelspec": {
   "display_name": "Python 3 (ipykernel)",
   "language": "python",
   "name": "python3"
  },
  "language_info": {
   "codemirror_mode": {
    "name": "ipython",
    "version": 3
   },
   "file_extension": ".py",
   "mimetype": "text/x-python",
   "name": "python",
   "nbconvert_exporter": "python",
   "pygments_lexer": "ipython3",
   "version": "3.9.7"
  }
 },
 "nbformat": 4,
 "nbformat_minor": 5
}
