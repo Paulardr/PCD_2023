{
 "cells": [
  {
   "cell_type": "code",
   "execution_count": 2,
   "id": "5f83496e-566d-467e-8d99-09bf89af504a",
   "metadata": {},
   "outputs": [],
   "source": [
    "import random as rd"
   ]
  },
  {
   "cell_type": "code",
   "execution_count": 35,
   "id": "e55cb63d-3cc4-4751-9638-fee5ab199025",
   "metadata": {},
   "outputs": [],
   "source": [
    "def multiplicar():\n",
    "    filas_A = int(input(\"introduce numero de filas de A\"))\n",
    "    columnas_A = int(input(\"introduce numero de columnas de A\"))\n",
    "    filas_B = int(input(\"introduce numero de filas de B\"))\n",
    "    columnas_B = int(input(\"introduce numero de columnas de B\"))\n",
    "    A =  [[rd.randint(0,215) for i in range(columnas_A)] for j in range(filas_A)]\n",
    "    B =  [[rd.randint(0,215) for i in range(columnas_B)] for j in range(filas_B)]\n",
    "    if(len(A[0]) != len(B)):\n",
    "        print(\"para multiplicar las matrices estas deben de ser compatibles\")\n",
    "    else:\n",
    "        C = [[0 for i in range(columnas_B)] for j in range(filas_A)]\n",
    "        for i in range(int(filas_A)):\n",
    "            for j in range(int(columnas_B)):\n",
    "                for k in range(columnas_A):\n",
    "                        C[i][j] = A[i][k] * B[k][j];\n",
    "        for x in C:\n",
    "            print(x)"
   ]
  },
  {
   "cell_type": "code",
   "execution_count": 37,
   "id": "f27a87a9-3cb1-45f3-a73f-2630ec933d66",
   "metadata": {},
   "outputs": [
    {
     "name": "stdin",
     "output_type": "stream",
     "text": [
      "introduce numero de filas de A 2\n",
      "introduce numero de columnas de A 2\n",
      "introduce numero de filas de B 2\n",
      "introduce numero de columnas de B 2\n"
     ]
    },
    {
     "name": "stdout",
     "output_type": "stream",
     "text": [
      "[2457, 18711]\n",
      "[312, 2376]\n"
     ]
    }
   ],
   "source": [
    "multiplicar()"
   ]
  },
  {
   "cell_type": "markdown",
   "id": "3447b3d1-8eab-487a-b235-229720d47251",
   "metadata": {},
   "source": []
  },
  {
   "cell_type": "code",
   "execution_count": 39,
   "id": "468e6927-c0eb-4af4-906a-5ddb361da681",
   "metadata": {},
   "outputs": [],
   "source": [
    "def multiplicarExpediente():\n",
    "    filas_A = 6\n",
    "    columnas_A = 222\n",
    "    filas_B = 222\n",
    "    columnas_B = 6\n",
    "    A =  [[rd.randint(0,215) for i in range(columnas_A)] for j in range(filas_A)]\n",
    "    B =  [[rd.randint(0,215) for i in range(columnas_B)] for j in range(filas_B)]\n",
    "    if(len(A[0]) != len(B)):\n",
    "        print(\"para multiplicar las matrices estas deben de ser compatibles\")\n",
    "    else:\n",
    "        C = [[0 for i in range(columnas_B)] for j in range(filas_A)]\n",
    "        for i in range(int(filas_A)):\n",
    "                    for j in range(int(columnas_B)):\n",
    "                        for k in range(columnas_A):\n",
    "                            C[i][j] = A[i][k] * B[k][j];\n",
    "        for x in C:\n",
    "            print(x)"
   ]
  },
  {
   "cell_type": "code",
   "execution_count": 40,
   "id": "a05b40e0-a67c-42d3-938b-2cb1534ba5b7",
   "metadata": {},
   "outputs": [
    {
     "name": "stdout",
     "output_type": "stream",
     "text": [
      "[17100, 5130, 7740, 14760, 12240, 12150]\n",
      "[18810, 5643, 8514, 16236, 13464, 13365]\n",
      "[19950, 5985, 9030, 17220, 14280, 14175]\n",
      "[14060, 4218, 6364, 12136, 10064, 9990]\n",
      "[38380, 11514, 17372, 33128, 27472, 27270]\n",
      "[6270, 1881, 2838, 5412, 4488, 4455]\n"
     ]
    }
   ],
   "source": [
    "multiplicarExpediente()"
   ]
  },
  {
   "cell_type": "code",
   "execution_count": null,
   "id": "40fcb3af-effd-44ed-b797-4e13b0e14205",
   "metadata": {},
   "outputs": [],
   "source": []
  }
 ],
 "metadata": {
  "kernelspec": {
   "display_name": "Python 3 (ipykernel)",
   "language": "python",
   "name": "python3"
  },
  "language_info": {
   "codemirror_mode": {
    "name": "ipython",
    "version": 3
   },
   "file_extension": ".py",
   "mimetype": "text/x-python",
   "name": "python",
   "nbconvert_exporter": "python",
   "pygments_lexer": "ipython3",
   "version": "3.9.7"
  }
 },
 "nbformat": 4,
 "nbformat_minor": 5
}
